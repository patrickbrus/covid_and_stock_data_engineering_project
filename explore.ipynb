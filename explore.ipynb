{
 "cells": [
  {
   "cell_type": "code",
   "execution_count": 1,
   "id": "ce3dd4e9",
   "metadata": {},
   "outputs": [],
   "source": [
    "import yfinance as yf\n",
    "import requests\n",
    "\n",
    "msft = yf.Ticker(\"msft\")"
   ]
  },
  {
   "cell_type": "code",
   "execution_count": null,
   "id": "ec32194d",
   "metadata": {},
   "outputs": [],
   "source": [
    "hist = msft.history(perdiod=\"ytd\")"
   ]
  },
  {
   "cell_type": "code",
   "execution_count": null,
   "id": "75937733",
   "metadata": {},
   "outputs": [],
   "source": [
    "hist"
   ]
  },
  {
   "cell_type": "code",
   "execution_count": null,
   "id": "eecd1d92",
   "metadata": {},
   "outputs": [],
   "source": [
    "data = yf.download(\"MSFT\", period=\"1d\")"
   ]
  },
  {
   "cell_type": "code",
   "execution_count": null,
   "id": "21b0e59a",
   "metadata": {},
   "outputs": [],
   "source": [
    "data"
   ]
  },
  {
   "cell_type": "code",
   "execution_count": null,
   "id": "42e37d17",
   "metadata": {},
   "outputs": [],
   "source": [
    "tickers = [\"^NDX\", \"^GSPC\", \"^GDAXI\", \"^STOXX50E\"]\n",
    "tickers_data_dict = dict()\n",
    "\n",
    "for ticker in tickers:\n",
    "    ticker_yf = yf.Ticker(ticker)\n",
    "    tickers_data_dict[ticker] = ticker_yf.history(perdiod=\"ytd\")"
   ]
  },
  {
   "cell_type": "code",
   "execution_count": null,
   "id": "62aae7d9",
   "metadata": {},
   "outputs": [],
   "source": [
    "print(tickers_data_dict.keys())"
   ]
  },
  {
   "cell_type": "code",
   "execution_count": null,
   "id": "5b6a96e6",
   "metadata": {},
   "outputs": [],
   "source": [
    "tickers_data_dict[\"^GDAXI\"]"
   ]
  },
  {
   "cell_type": "markdown",
   "id": "9a25b357",
   "metadata": {},
   "source": [
    "# Get Covid19 data from San Francisco"
   ]
  },
  {
   "cell_type": "code",
   "execution_count": null,
   "id": "0f1d3439",
   "metadata": {},
   "outputs": [],
   "source": [
    "import pandas as pd\n",
    "\n",
    "url = \"https://data.sfgov.org/resource/nfpa-mg4g.json\"\n",
    "df_covid19 = pd.read_json(url)\n",
    "df_covid19.tail()"
   ]
  },
  {
   "cell_type": "markdown",
   "id": "4fe41798",
   "metadata": {},
   "source": [
    "# Get Wheather data from San Francisco"
   ]
  },
  {
   "cell_type": "code",
   "execution_count": 4,
   "id": "97d72a9e",
   "metadata": {},
   "outputs": [],
   "source": [
    "key_file = r\"/home/brus/credentials/key_meteostat.txt\"\n",
    "with open(key_file, \"r\") as file:\n",
    "    rapid_api_key = file.read()"
   ]
  },
  {
   "cell_type": "code",
   "execution_count": 5,
   "id": "07e91eac",
   "metadata": {},
   "outputs": [],
   "source": [
    "# station: airport\n",
    "url = \"https://meteostat.p.rapidapi.com/stations/daily\"\n",
    "\n",
    "querystring = {\"station\":\"72494\",\"start\":\"2022-01-16\",\"end\":\"2022-01-17\"}\n",
    "\n",
    "headers = {\n",
    "    'x-rapidapi-host': \"meteostat.p.rapidapi.com\",\n",
    "    'x-rapidapi-key': rapid_api_key\n",
    "    }\n",
    "\n",
    "response = requests.request(\"GET\", url, headers=headers, params=querystring)"
   ]
  },
  {
   "cell_type": "code",
   "execution_count": 6,
   "id": "e59e8fc2",
   "metadata": {},
   "outputs": [
    {
     "data": {
      "text/plain": [
       "{'meta': {'generated': '2022-01-18 08:19:26'},\n",
       " 'data': [{'date': '2022-01-16',\n",
       "   'tavg': 11.8,\n",
       "   'tmin': 9.3,\n",
       "   'tmax': 15.5,\n",
       "   'prcp': None,\n",
       "   'snow': None,\n",
       "   'wdir': 22.6,\n",
       "   'wspd': 4.8,\n",
       "   'wpgt': None,\n",
       "   'pres': 1019.8,\n",
       "   'tsun': None},\n",
       "  {'date': '2022-01-17',\n",
       "   'tavg': 10.9,\n",
       "   'tmin': 8.3,\n",
       "   'tmax': 15.1,\n",
       "   'prcp': None,\n",
       "   'snow': None,\n",
       "   'wdir': 291.6,\n",
       "   'wspd': 6.4,\n",
       "   'wpgt': None,\n",
       "   'pres': 1018.4,\n",
       "   'tsun': None}]}"
      ]
     },
     "execution_count": 6,
     "metadata": {},
     "output_type": "execute_result"
    }
   ],
   "source": [
    "import json\n",
    "response_dict = json.loads(response.text)\n",
    "response_dict"
   ]
  },
  {
   "cell_type": "code",
   "execution_count": 2,
   "id": "62d79cf3",
   "metadata": {},
   "outputs": [],
   "source": [
    "import utils\n",
    "utils.extract_and_load_covid_data()"
   ]
  },
  {
   "cell_type": "code",
   "execution_count": null,
   "id": "8875e16e",
   "metadata": {},
   "outputs": [],
   "source": []
  }
 ],
 "metadata": {
  "kernelspec": {
   "display_name": "Python 3 (ipykernel)",
   "language": "python",
   "name": "python3"
  },
  "language_info": {
   "codemirror_mode": {
    "name": "ipython",
    "version": 3
   },
   "file_extension": ".py",
   "mimetype": "text/x-python",
   "name": "python",
   "nbconvert_exporter": "python",
   "pygments_lexer": "ipython3",
   "version": "3.6.9"
  }
 },
 "nbformat": 4,
 "nbformat_minor": 5
}
